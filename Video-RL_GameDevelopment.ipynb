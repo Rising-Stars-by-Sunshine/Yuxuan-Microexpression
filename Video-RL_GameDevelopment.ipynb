{
  "nbformat": 4,
  "nbformat_minor": 0,
  "metadata": {
    "colab": {
      "provenance": [],
      "include_colab_link": true
    },
    "kernelspec": {
      "name": "python3",
      "display_name": "Python 3"
    },
    "language_info": {
      "name": "python"
    }
  },
  "cells": [
    {
      "cell_type": "markdown",
      "metadata": {
        "id": "view-in-github",
        "colab_type": "text"
      },
      "source": [
        "<a href=\"https://colab.research.google.com/github/YuxuanHuang455/PS-Microexpression/blob/main/Video-RL_GameDevelopment.ipynb\" target=\"_parent\"><img src=\"https://colab.research.google.com/assets/colab-badge.svg\" alt=\"Open In Colab\"/></a>"
      ]
    },
    {
      "cell_type": "markdown",
      "source": [
        "# Step 1: Install the Packages and Set up the RL Env"
      ],
      "metadata": {
        "id": "jMR0H0sYaLFL"
      }
    },
    {
      "cell_type": "markdown",
      "source": [
        "To start, ensure all necessary libraries are installed. OpenAI Gym provides the RL environments, and W&B offers live monitoring.\n"
      ],
      "metadata": {
        "id": "K_EZgZQ58Z2P"
      }
    },
    {
      "cell_type": "code",
      "source": [
        "!pip install wandb scikit-learn optuna\n",
        "\n",
        "import wandb\n",
        "wandb.init(project=\"MicroExpression-Optimization\", name=\"SVM-vs-LogReg\")\n",
        "\n",
        "wandb.login()\n",
        "\n",
        "import pandas as pd\n",
        "from sklearn.model_selection import train_test_split, GridSearchCV\n",
        "from sklearn.svm import SVC\n",
        "from sklearn.linear_model import LogisticRegression\n",
        "from sklearn.metrics import accuracy_score, f1_score\n",
        "import optuna\n",
        "import numpy as np\n",
        "import pandas as pd\n",
        "import matplotlib.pyplot as plt\n",
        "import statsmodels.formula.api as smf\n",
        "from google.colab import files\n",
        "\n",
        "# -------------------------------\n",
        "# Step 1: Load micro-expression dataset\n",
        "# -------------------------------\n",
        "uploaded = files.upload()\n",
        "data = pd.read_csv(\"micro_expression_causal_dataset.csv\")\n",
        "\n",
        "\n",
        "X = data[[\"imbalance\"]]  # 这里用 imbalance 特征做示例\n",
        "y = (data[\"macroF1\"] > 0.55).astype(int)  # 把宏平均F1转为二分类标签（高/低表现）\n",
        "\n",
        "X_train, X_test, y_train, y_test = train_test_split(X, y, test_size=0.2, random_state=42)\n",
        "\n",
        "# -------------------------------\n",
        "# Step 2: Optimization 1 (GridSearchCV for SVM)\n",
        "# -------------------------------\n",
        "param_grid = {\n",
        "    \"C\": [0.1, 1, 10],\n",
        "    \"kernel\": [\"linear\", \"rbf\"]\n",
        "}\n",
        "\n",
        "svm = SVC()\n",
        "grid = GridSearchCV(svm, param_grid, scoring=\"f1\", cv=5, verbose=1)\n",
        "grid.fit(X_train, y_train)\n",
        "\n",
        "best_svm = grid.best_estimator_\n",
        "y_pred_svm = best_svm.predict(X_test)\n",
        "\n",
        "svm_acc = accuracy_score(y_test, y_pred_svm)\n",
        "svm_f1 = f1_score(y_test, y_pred_svm)\n",
        "\n",
        "wandb.log({\"SVM accuracy\": svm_acc, \"SVM macro-F1\": svm_f1})\n",
        "\n",
        "# -------------------------------\n",
        "# Step 3: Optimization 2 (Optuna for Logistic Regression)\n",
        "# -------------------------------\n",
        "def objective(trial):\n",
        "    C = trial.suggest_float(\"C\", 0.01, 10.0, log=True)\n",
        "    penalty = trial.suggest_categorical(\"penalty\", [\"l1\", \"l2\"])\n",
        "    solver = \"liblinear\" if penalty==\"l1\" else \"lbfgs\"\n",
        "    model = LogisticRegression(C=C, penalty=penalty, solver=solver, max_iter=1000)\n",
        "    model.fit(X_train, y_train)\n",
        "    preds = model.predict(X_test)\n",
        "    return f1_score(y_test, preds)\n",
        "\n",
        "study = optuna.create_study(direction=\"maximize\")\n",
        "study.optimize(objective, n_trials=20)\n",
        "\n",
        "best_params = study.best_params\n",
        "logreg = LogisticRegression(**best_params, solver=\"liblinear\", max_iter=1000)\n",
        "logreg.fit(X_train, y_train)\n",
        "y_pred_lr = logreg.predict(X_test)\n",
        "\n",
        "lr_acc = accuracy_score(y_test, y_pred_lr)\n",
        "lr_f1 = f1_score(y_test, y_pred_lr)\n",
        "\n",
        "wandb.log({\"LogReg accuracy\": lr_acc, \"LogReg macro-F1\": lr_f1})\n",
        "\n",
        "print(\"SVM:\", svm_acc, svm_f1)\n",
        "print(\"Logistic Regression:\", lr_acc, lr_f1)\n"
      ],
      "metadata": {
        "colab": {
          "base_uri": "https://localhost:8080/",
          "height": 1000
        },
        "id": "SBMnFQyHPSlw",
        "outputId": "ca0f7e9a-4a8d-43e0-b014-719fb8bf92b1"
      },
      "execution_count": null,
      "outputs": [
        {
          "output_type": "stream",
          "name": "stdout",
          "text": [
            "Requirement already satisfied: wandb in /usr/local/lib/python3.12/dist-packages (0.21.4)\n",
            "Requirement already satisfied: scikit-learn in /usr/local/lib/python3.12/dist-packages (1.6.1)\n",
            "Requirement already satisfied: optuna in /usr/local/lib/python3.12/dist-packages (4.5.0)\n",
            "Requirement already satisfied: click>=8.0.1 in /usr/local/lib/python3.12/dist-packages (from wandb) (8.2.1)\n",
            "Requirement already satisfied: gitpython!=3.1.29,>=1.0.0 in /usr/local/lib/python3.12/dist-packages (from wandb) (3.1.45)\n",
            "Requirement already satisfied: packaging in /usr/local/lib/python3.12/dist-packages (from wandb) (25.0)\n",
            "Requirement already satisfied: platformdirs in /usr/local/lib/python3.12/dist-packages (from wandb) (4.4.0)\n",
            "Requirement already satisfied: protobuf!=4.21.0,!=5.28.0,<7,>=3.19.0 in /usr/local/lib/python3.12/dist-packages (from wandb) (5.29.5)\n",
            "Requirement already satisfied: pydantic<3 in /usr/local/lib/python3.12/dist-packages (from wandb) (2.11.9)\n",
            "Requirement already satisfied: pyyaml in /usr/local/lib/python3.12/dist-packages (from wandb) (6.0.2)\n",
            "Requirement already satisfied: requests<3,>=2.0.0 in /usr/local/lib/python3.12/dist-packages (from wandb) (2.32.4)\n",
            "Requirement already satisfied: sentry-sdk>=2.0.0 in /usr/local/lib/python3.12/dist-packages (from wandb) (2.38.0)\n",
            "Requirement already satisfied: typing-extensions<5,>=4.8 in /usr/local/lib/python3.12/dist-packages (from wandb) (4.15.0)\n",
            "Requirement already satisfied: numpy>=1.19.5 in /usr/local/lib/python3.12/dist-packages (from scikit-learn) (2.0.2)\n",
            "Requirement already satisfied: scipy>=1.6.0 in /usr/local/lib/python3.12/dist-packages (from scikit-learn) (1.16.2)\n",
            "Requirement already satisfied: joblib>=1.2.0 in /usr/local/lib/python3.12/dist-packages (from scikit-learn) (1.5.2)\n",
            "Requirement already satisfied: threadpoolctl>=3.1.0 in /usr/local/lib/python3.12/dist-packages (from scikit-learn) (3.6.0)\n",
            "Requirement already satisfied: alembic>=1.5.0 in /usr/local/lib/python3.12/dist-packages (from optuna) (1.16.5)\n",
            "Requirement already satisfied: colorlog in /usr/local/lib/python3.12/dist-packages (from optuna) (6.9.0)\n",
            "Requirement already satisfied: sqlalchemy>=1.4.2 in /usr/local/lib/python3.12/dist-packages (from optuna) (2.0.43)\n",
            "Requirement already satisfied: tqdm in /usr/local/lib/python3.12/dist-packages (from optuna) (4.67.1)\n",
            "Requirement already satisfied: Mako in /usr/local/lib/python3.12/dist-packages (from alembic>=1.5.0->optuna) (1.3.10)\n",
            "Requirement already satisfied: gitdb<5,>=4.0.1 in /usr/local/lib/python3.12/dist-packages (from gitpython!=3.1.29,>=1.0.0->wandb) (4.0.12)\n",
            "Requirement already satisfied: annotated-types>=0.6.0 in /usr/local/lib/python3.12/dist-packages (from pydantic<3->wandb) (0.7.0)\n",
            "Requirement already satisfied: pydantic-core==2.33.2 in /usr/local/lib/python3.12/dist-packages (from pydantic<3->wandb) (2.33.2)\n",
            "Requirement already satisfied: typing-inspection>=0.4.0 in /usr/local/lib/python3.12/dist-packages (from pydantic<3->wandb) (0.4.1)\n",
            "Requirement already satisfied: charset_normalizer<4,>=2 in /usr/local/lib/python3.12/dist-packages (from requests<3,>=2.0.0->wandb) (3.4.3)\n",
            "Requirement already satisfied: idna<4,>=2.5 in /usr/local/lib/python3.12/dist-packages (from requests<3,>=2.0.0->wandb) (3.10)\n",
            "Requirement already satisfied: urllib3<3,>=1.21.1 in /usr/local/lib/python3.12/dist-packages (from requests<3,>=2.0.0->wandb) (2.5.0)\n",
            "Requirement already satisfied: certifi>=2017.4.17 in /usr/local/lib/python3.12/dist-packages (from requests<3,>=2.0.0->wandb) (2025.8.3)\n",
            "Requirement already satisfied: greenlet>=1 in /usr/local/lib/python3.12/dist-packages (from sqlalchemy>=1.4.2->optuna) (3.2.4)\n",
            "Requirement already satisfied: smmap<6,>=3.0.1 in /usr/local/lib/python3.12/dist-packages (from gitdb<5,>=4.0.1->gitpython!=3.1.29,>=1.0.0->wandb) (5.0.2)\n",
            "Requirement already satisfied: MarkupSafe>=0.9.2 in /usr/local/lib/python3.12/dist-packages (from Mako->alembic>=1.5.0->optuna) (3.0.2)\n"
          ]
        },
        {
          "output_type": "display_data",
          "data": {
            "text/plain": [
              "<IPython.core.display.HTML object>"
            ],
            "text/html": []
          },
          "metadata": {}
        },
        {
          "output_type": "display_data",
          "data": {
            "text/plain": [
              "<IPython.core.display.HTML object>"
            ],
            "text/html": [
              "Tracking run with wandb version 0.21.4"
            ]
          },
          "metadata": {}
        },
        {
          "output_type": "display_data",
          "data": {
            "text/plain": [
              "<IPython.core.display.HTML object>"
            ],
            "text/html": [
              "Run data is saved locally in <code>/content/wandb/run-20250927_033935-wbl4cuya</code>"
            ]
          },
          "metadata": {}
        },
        {
          "output_type": "display_data",
          "data": {
            "text/plain": [
              "<IPython.core.display.HTML object>"
            ],
            "text/html": [
              "Syncing run <strong><a href='https://wandb.ai/yh368-duke-university/MicroExpression-Optimization/runs/wbl4cuya' target=\"_blank\">SVM-vs-LogReg</a></strong> to <a href='https://wandb.ai/yh368-duke-university/MicroExpression-Optimization' target=\"_blank\">Weights & Biases</a> (<a href='https://wandb.me/developer-guide' target=\"_blank\">docs</a>)<br>"
            ]
          },
          "metadata": {}
        },
        {
          "output_type": "display_data",
          "data": {
            "text/plain": [
              "<IPython.core.display.HTML object>"
            ],
            "text/html": [
              " View project at <a href='https://wandb.ai/yh368-duke-university/MicroExpression-Optimization' target=\"_blank\">https://wandb.ai/yh368-duke-university/MicroExpression-Optimization</a>"
            ]
          },
          "metadata": {}
        },
        {
          "output_type": "display_data",
          "data": {
            "text/plain": [
              "<IPython.core.display.HTML object>"
            ],
            "text/html": [
              " View run at <a href='https://wandb.ai/yh368-duke-university/MicroExpression-Optimization/runs/wbl4cuya' target=\"_blank\">https://wandb.ai/yh368-duke-university/MicroExpression-Optimization/runs/wbl4cuya</a>"
            ]
          },
          "metadata": {}
        },
        {
          "output_type": "stream",
          "name": "stderr",
          "text": [
            "\u001b[34m\u001b[1mwandb\u001b[0m: \u001b[33mWARNING\u001b[0m Calling wandb.login() after wandb.init() has no effect.\n"
          ]
        },
        {
          "output_type": "display_data",
          "data": {
            "text/plain": [
              "<IPython.core.display.HTML object>"
            ],
            "text/html": [
              "\n",
              "     <input type=\"file\" id=\"files-470e892b-3062-44aa-8742-b66e9d6a92a4\" name=\"files[]\" multiple disabled\n",
              "        style=\"border:none\" />\n",
              "     <output id=\"result-470e892b-3062-44aa-8742-b66e9d6a92a4\">\n",
              "      Upload widget is only available when the cell has been executed in the\n",
              "      current browser session. Please rerun this cell to enable.\n",
              "      </output>\n",
              "      <script>// Copyright 2017 Google LLC\n",
              "//\n",
              "// Licensed under the Apache License, Version 2.0 (the \"License\");\n",
              "// you may not use this file except in compliance with the License.\n",
              "// You may obtain a copy of the License at\n",
              "//\n",
              "//      http://www.apache.org/licenses/LICENSE-2.0\n",
              "//\n",
              "// Unless required by applicable law or agreed to in writing, software\n",
              "// distributed under the License is distributed on an \"AS IS\" BASIS,\n",
              "// WITHOUT WARRANTIES OR CONDITIONS OF ANY KIND, either express or implied.\n",
              "// See the License for the specific language governing permissions and\n",
              "// limitations under the License.\n",
              "\n",
              "/**\n",
              " * @fileoverview Helpers for google.colab Python module.\n",
              " */\n",
              "(function(scope) {\n",
              "function span(text, styleAttributes = {}) {\n",
              "  const element = document.createElement('span');\n",
              "  element.textContent = text;\n",
              "  for (const key of Object.keys(styleAttributes)) {\n",
              "    element.style[key] = styleAttributes[key];\n",
              "  }\n",
              "  return element;\n",
              "}\n",
              "\n",
              "// Max number of bytes which will be uploaded at a time.\n",
              "const MAX_PAYLOAD_SIZE = 100 * 1024;\n",
              "\n",
              "function _uploadFiles(inputId, outputId) {\n",
              "  const steps = uploadFilesStep(inputId, outputId);\n",
              "  const outputElement = document.getElementById(outputId);\n",
              "  // Cache steps on the outputElement to make it available for the next call\n",
              "  // to uploadFilesContinue from Python.\n",
              "  outputElement.steps = steps;\n",
              "\n",
              "  return _uploadFilesContinue(outputId);\n",
              "}\n",
              "\n",
              "// This is roughly an async generator (not supported in the browser yet),\n",
              "// where there are multiple asynchronous steps and the Python side is going\n",
              "// to poll for completion of each step.\n",
              "// This uses a Promise to block the python side on completion of each step,\n",
              "// then passes the result of the previous step as the input to the next step.\n",
              "function _uploadFilesContinue(outputId) {\n",
              "  const outputElement = document.getElementById(outputId);\n",
              "  const steps = outputElement.steps;\n",
              "\n",
              "  const next = steps.next(outputElement.lastPromiseValue);\n",
              "  return Promise.resolve(next.value.promise).then((value) => {\n",
              "    // Cache the last promise value to make it available to the next\n",
              "    // step of the generator.\n",
              "    outputElement.lastPromiseValue = value;\n",
              "    return next.value.response;\n",
              "  });\n",
              "}\n",
              "\n",
              "/**\n",
              " * Generator function which is called between each async step of the upload\n",
              " * process.\n",
              " * @param {string} inputId Element ID of the input file picker element.\n",
              " * @param {string} outputId Element ID of the output display.\n",
              " * @return {!Iterable<!Object>} Iterable of next steps.\n",
              " */\n",
              "function* uploadFilesStep(inputId, outputId) {\n",
              "  const inputElement = document.getElementById(inputId);\n",
              "  inputElement.disabled = false;\n",
              "\n",
              "  const outputElement = document.getElementById(outputId);\n",
              "  outputElement.innerHTML = '';\n",
              "\n",
              "  const pickedPromise = new Promise((resolve) => {\n",
              "    inputElement.addEventListener('change', (e) => {\n",
              "      resolve(e.target.files);\n",
              "    });\n",
              "  });\n",
              "\n",
              "  const cancel = document.createElement('button');\n",
              "  inputElement.parentElement.appendChild(cancel);\n",
              "  cancel.textContent = 'Cancel upload';\n",
              "  const cancelPromise = new Promise((resolve) => {\n",
              "    cancel.onclick = () => {\n",
              "      resolve(null);\n",
              "    };\n",
              "  });\n",
              "\n",
              "  // Wait for the user to pick the files.\n",
              "  const files = yield {\n",
              "    promise: Promise.race([pickedPromise, cancelPromise]),\n",
              "    response: {\n",
              "      action: 'starting',\n",
              "    }\n",
              "  };\n",
              "\n",
              "  cancel.remove();\n",
              "\n",
              "  // Disable the input element since further picks are not allowed.\n",
              "  inputElement.disabled = true;\n",
              "\n",
              "  if (!files) {\n",
              "    return {\n",
              "      response: {\n",
              "        action: 'complete',\n",
              "      }\n",
              "    };\n",
              "  }\n",
              "\n",
              "  for (const file of files) {\n",
              "    const li = document.createElement('li');\n",
              "    li.append(span(file.name, {fontWeight: 'bold'}));\n",
              "    li.append(span(\n",
              "        `(${file.type || 'n/a'}) - ${file.size} bytes, ` +\n",
              "        `last modified: ${\n",
              "            file.lastModifiedDate ? file.lastModifiedDate.toLocaleDateString() :\n",
              "                                    'n/a'} - `));\n",
              "    const percent = span('0% done');\n",
              "    li.appendChild(percent);\n",
              "\n",
              "    outputElement.appendChild(li);\n",
              "\n",
              "    const fileDataPromise = new Promise((resolve) => {\n",
              "      const reader = new FileReader();\n",
              "      reader.onload = (e) => {\n",
              "        resolve(e.target.result);\n",
              "      };\n",
              "      reader.readAsArrayBuffer(file);\n",
              "    });\n",
              "    // Wait for the data to be ready.\n",
              "    let fileData = yield {\n",
              "      promise: fileDataPromise,\n",
              "      response: {\n",
              "        action: 'continue',\n",
              "      }\n",
              "    };\n",
              "\n",
              "    // Use a chunked sending to avoid message size limits. See b/62115660.\n",
              "    let position = 0;\n",
              "    do {\n",
              "      const length = Math.min(fileData.byteLength - position, MAX_PAYLOAD_SIZE);\n",
              "      const chunk = new Uint8Array(fileData, position, length);\n",
              "      position += length;\n",
              "\n",
              "      const base64 = btoa(String.fromCharCode.apply(null, chunk));\n",
              "      yield {\n",
              "        response: {\n",
              "          action: 'append',\n",
              "          file: file.name,\n",
              "          data: base64,\n",
              "        },\n",
              "      };\n",
              "\n",
              "      let percentDone = fileData.byteLength === 0 ?\n",
              "          100 :\n",
              "          Math.round((position / fileData.byteLength) * 100);\n",
              "      percent.textContent = `${percentDone}% done`;\n",
              "\n",
              "    } while (position < fileData.byteLength);\n",
              "  }\n",
              "\n",
              "  // All done.\n",
              "  yield {\n",
              "    response: {\n",
              "      action: 'complete',\n",
              "    }\n",
              "  };\n",
              "}\n",
              "\n",
              "scope.google = scope.google || {};\n",
              "scope.google.colab = scope.google.colab || {};\n",
              "scope.google.colab._files = {\n",
              "  _uploadFiles,\n",
              "  _uploadFilesContinue,\n",
              "};\n",
              "})(self);\n",
              "</script> "
            ]
          },
          "metadata": {}
        },
        {
          "output_type": "stream",
          "name": "stdout",
          "text": [
            "Saving micro_expression_causal_dataset.csv to micro_expression_causal_dataset (1).csv\n",
            "Fitting 5 folds for each of 6 candidates, totalling 30 fits\n"
          ]
        },
        {
          "output_type": "stream",
          "name": "stderr",
          "text": [
            "[I 2025-09-27 03:39:49,512] A new study created in memory with name: no-name-7df94b60-d84e-4ac0-a79a-583931ac91ba\n",
            "[I 2025-09-27 03:39:49,538] Trial 0 finished with value: 0.7189542483660131 and parameters: {'C': 9.058448124477339, 'penalty': 'l1'}. Best is trial 0 with value: 0.7189542483660131.\n",
            "[I 2025-09-27 03:39:49,563] Trial 1 finished with value: 0.7172413793103448 and parameters: {'C': 1.6917105360987417, 'penalty': 'l2'}. Best is trial 0 with value: 0.7189542483660131.\n",
            "[I 2025-09-27 03:39:49,579] Trial 2 finished with value: 0.7210884353741497 and parameters: {'C': 0.477335584290166, 'penalty': 'l1'}. Best is trial 2 with value: 0.7210884353741497.\n",
            "[I 2025-09-27 03:39:49,594] Trial 3 finished with value: 0.0 and parameters: {'C': 0.03360965229991376, 'penalty': 'l2'}. Best is trial 2 with value: 0.7210884353741497.\n",
            "[I 2025-09-27 03:39:49,609] Trial 4 finished with value: 0.6417910447761194 and parameters: {'C': 0.4966292644907382, 'penalty': 'l2'}. Best is trial 2 with value: 0.7210884353741497.\n",
            "[I 2025-09-27 03:39:49,625] Trial 5 finished with value: 0.6166666666666667 and parameters: {'C': 0.12842297204118952, 'penalty': 'l1'}. Best is trial 2 with value: 0.7210884353741497.\n",
            "[I 2025-09-27 03:39:49,643] Trial 6 finished with value: 0.7189542483660131 and parameters: {'C': 6.141821257224072, 'penalty': 'l1'}. Best is trial 2 with value: 0.7210884353741497.\n",
            "[I 2025-09-27 03:39:49,657] Trial 7 finished with value: 0.0 and parameters: {'C': 0.13185459815212766, 'penalty': 'l2'}. Best is trial 2 with value: 0.7210884353741497.\n",
            "[I 2025-09-27 03:39:49,673] Trial 8 finished with value: 0.7236842105263158 and parameters: {'C': 2.730041835297087, 'penalty': 'l1'}. Best is trial 8 with value: 0.7236842105263158.\n",
            "[I 2025-09-27 03:39:49,699] Trial 9 finished with value: 0.7236842105263158 and parameters: {'C': 7.221343585328394, 'penalty': 'l2'}. Best is trial 8 with value: 0.7236842105263158.\n",
            "[I 2025-09-27 03:39:49,732] Trial 10 finished with value: 0.7236842105263158 and parameters: {'C': 1.464265804161438, 'penalty': 'l1'}. Best is trial 8 with value: 0.7236842105263158.\n",
            "[I 2025-09-27 03:39:49,749] Trial 11 finished with value: 0.7297297297297297 and parameters: {'C': 2.4089181577154806, 'penalty': 'l2'}. Best is trial 11 with value: 0.7297297297297297.\n",
            "[I 2025-09-27 03:39:49,770] Trial 12 finished with value: 0.7172413793103448 and parameters: {'C': 1.767274239224158, 'penalty': 'l2'}. Best is trial 11 with value: 0.7297297297297297.\n",
            "[I 2025-09-27 03:39:49,792] Trial 13 finished with value: 0.7236842105263158 and parameters: {'C': 1.9398626197727682, 'penalty': 'l1'}. Best is trial 11 with value: 0.7297297297297297.\n",
            "[I 2025-09-27 03:39:49,811] Trial 14 finished with value: 0.7333333333333333 and parameters: {'C': 3.3630989985208184, 'penalty': 'l2'}. Best is trial 14 with value: 0.7333333333333333.\n",
            "[I 2025-09-27 03:39:49,830] Trial 15 finished with value: 0.0 and parameters: {'C': 0.01279901209730109, 'penalty': 'l2'}. Best is trial 14 with value: 0.7333333333333333.\n",
            "[I 2025-09-27 03:39:49,848] Trial 16 finished with value: 0.6993006993006993 and parameters: {'C': 0.9431492060639386, 'penalty': 'l2'}. Best is trial 14 with value: 0.7333333333333333.\n",
            "[I 2025-09-27 03:39:49,866] Trial 17 finished with value: 0.7284768211920529 and parameters: {'C': 3.8514444842350315, 'penalty': 'l2'}. Best is trial 14 with value: 0.7333333333333333.\n",
            "[I 2025-09-27 03:39:49,885] Trial 18 finished with value: 0.6901408450704225 and parameters: {'C': 0.8053264455815741, 'penalty': 'l2'}. Best is trial 14 with value: 0.7333333333333333.\n",
            "[I 2025-09-27 03:39:49,910] Trial 19 finished with value: 0.5565217391304348 and parameters: {'C': 0.2449972925317508, 'penalty': 'l2'}. Best is trial 14 with value: 0.7333333333333333.\n"
          ]
        },
        {
          "output_type": "stream",
          "name": "stdout",
          "text": [
            "SVM: 0.785 0.7295597484276729\n",
            "Logistic Regression: 0.79 0.7123287671232876\n"
          ]
        }
      ]
    },
    {
      "cell_type": "code",
      "source": [
        "import matplotlib.pyplot as plt\n",
        "import matplotlib.animation as animation\n",
        "\n",
        "# Data for video (简单可视化: accuracy vs model)\n",
        "models = [\"SVM\", \"LogReg\"]\n",
        "accs = [svm_acc, lr_acc]\n",
        "f1s = [svm_f1, lr_f1]\n",
        "\n",
        "fig, ax = plt.subplots()\n",
        "bars = ax.bar(models, accs, color=\"blue\")\n",
        "\n",
        "def animate(i):\n",
        "    for bar, h in zip(bars, [svm_acc, lr_acc]):\n",
        "        bar.set_height(h + 0.01*i*(lr_acc - svm_acc)/10)\n",
        "    return bars\n",
        "\n",
        "ani = animation.FuncAnimation(fig, animate, frames=10, blit=True)\n",
        "ani.save(\"optimization_results.mp4\", writer=\"ffmpeg\")\n",
        "print(\"Video saved: optimization_results.mp4\")\n"
      ],
      "metadata": {
        "colab": {
          "base_uri": "https://localhost:8080/",
          "height": 448
        },
        "id": "fhCeq0LgPV-M",
        "outputId": "2a1234db-b99e-4fd9-bfa1-b3576a0319b6"
      },
      "execution_count": null,
      "outputs": [
        {
          "output_type": "stream",
          "name": "stdout",
          "text": [
            "Video saved: optimization_results.mp4\n"
          ]
        },
        {
          "output_type": "display_data",
          "data": {
            "text/plain": [
              "<Figure size 640x480 with 1 Axes>"
            ],
            "image/png": "[encoded data removed]"
          },
          "metadata": {}
        }
      ]
    },
    {
      "cell_type": "code",
      "source": [
        "import matplotlib.pyplot as plt\n",
        "import matplotlib.animation as animation\n",
        "\n",
        "models = [\"SVM\", \"LogReg\"]\n",
        "baseline_acc = [0.5, 0.5]\n",
        "baseline_f1 = [0.5, 0.5]\n",
        "\n",
        "final_acc = [svm_acc, lr_acc]\n",
        "final_f1 = [svm_f1, lr_f1]\n",
        "\n",
        "\n",
        "fig, ax = plt.subplots(figsize=(6,5))\n",
        "bars = ax.bar(models, baseline_acc, color=[\"blue\",\"orange\"])\n",
        "ax.set_ylim(0,1)\n",
        "ax.set_title(\"Accuracy Before vs After Training\")\n",
        "\n",
        "def animate_acc(frame):\n",
        "    progress = frame / 20.0\n",
        "    for bar, base, final in zip(bars, baseline_acc, final_acc):\n",
        "        bar.set_height(base + (final-base)*progress)\n",
        "    return bars\n",
        "\n",
        "ani_acc = animation.FuncAnimation(fig, animate_acc, frames=21, blit=True, repeat=False)\n",
        "ani_acc.save(\"Accuracy_Comparison.mp4\", writer=\"ffmpeg\", fps=5)\n",
        "plt.close(fig)\n",
        "print(\"file1: Accuracy_Comparison.mp4\")\n",
        "\n",
        "\n",
        "fig, ax = plt.subplots(figsize=(6,5))\n",
        "bars = ax.bar(models, baseline_f1, color=[\"blue\",\"orange\"])\n",
        "ax.set_ylim(0,1)\n",
        "ax.set_title(\"Macro-F1 Before vs After Training\")\n",
        "\n",
        "def animate_f1(frame):\n",
        "    progress = frame / 20.0\n",
        "    for bar, base, final in zip(bars, baseline_f1, final_f1):\n",
        "        bar.set_height(base + (final-base)*progress)\n",
        "    return bars\n",
        "\n",
        "ani_f1 = animation.FuncAnimation(fig, animate_f1, frames=21, blit=True, repeat=False)\n",
        "ani_f1.save(\"MacroF1_Comparison.mp4\", writer=\"ffmpeg\", fps=5)\n",
        "plt.close(fig)\n",
        "print(\"file2: MacroF1_Comparison.mp4\")\n"
      ],
      "metadata": {
        "colab": {
          "base_uri": "https://localhost:8080/"
        },
        "id": "69ReIXSSTKLt",
        "outputId": "45e45d14-ac59-4c88-e499-1c9b74bcb9e1"
      },
      "execution_count": null,
      "outputs": [
        {
          "output_type": "stream",
          "name": "stdout",
          "text": [
            "file1: Accuracy_Comparison.mp4\n"
          ]
        },
        {
          "output_type": "stream",
          "name": "stderr",
          "text": [
            "/usr/local/lib/python3.12/dist-packages/google/protobuf/internal/well_known_types.py:178: DeprecationWarning: datetime.datetime.utcnow() is deprecated and scheduled for removal in a future version. Use timezone-aware objects to represent datetimes in UTC: datetime.datetime.now(datetime.UTC).\n",
            "  self.FromDatetime(datetime.datetime.utcnow())\n",
            "/usr/local/lib/python3.12/dist-packages/jupyter_client/session.py:203: DeprecationWarning: datetime.datetime.utcnow() is deprecated and scheduled for removal in a future version. Use timezone-aware objects to represent datetimes in UTC: datetime.datetime.now(datetime.UTC).\n",
            "  return datetime.utcnow().replace(tzinfo=utc)\n",
            "/usr/local/lib/python3.12/dist-packages/google/protobuf/internal/well_known_types.py:178: DeprecationWarning: datetime.datetime.utcnow() is deprecated and scheduled for removal in a future version. Use timezone-aware objects to represent datetimes in UTC: datetime.datetime.now(datetime.UTC).\n",
            "  self.FromDatetime(datetime.datetime.utcnow())\n"
          ]
        },
        {
          "output_type": "stream",
          "name": "stdout",
          "text": [
            "file2: MacroF1_Comparison.mp4\n"
          ]
        }
      ]
    }
  ]
}